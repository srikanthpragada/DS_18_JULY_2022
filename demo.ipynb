{
 "cells": [
  {
   "cell_type": "code",
   "execution_count": 20,
   "id": "401a46fe-93a8-4b5d-abfe-e0c523290138",
   "metadata": {
    "tags": []
   },
   "outputs": [
    {
     "name": "stdout",
     "output_type": "stream",
     "text": [
      "Hello Notebook\n"
     ]
    }
   ],
   "source": [
    "print(\"Hello Notebook\")"
   ]
  },
  {
   "cell_type": "code",
   "execution_count": 19,
   "id": "d5dce2b9-df15-4222-afaf-8295836f1d46",
   "metadata": {
    "collapsed": true,
    "jupyter": {
     "outputs_hidden": true,
     "source_hidden": true
    },
    "tags": []
   },
   "outputs": [
    {
     "name": "stdout",
     "output_type": "stream",
     "text": [
      "2022-07-20 20:17:12.230802\n"
     ]
    }
   ],
   "source": [
    "from datetime import datetime\n",
    "cd = datetime.now()\n",
    "print(cd)"
   ]
  },
  {
   "cell_type": "code",
   "execution_count": null,
   "id": "12a5ebab-8678-4ca5-8dbc-b638bd0fe3fc",
   "metadata": {
    "tags": []
   },
   "outputs": [],
   "source": [
    "from datetime import datetime\n",
    "cd = datetime.now()\n",
    "print(cd)"
   ]
  },
  {
   "cell_type": "code",
   "execution_count": null,
   "id": "9209edda-0db3-47d2-b1cb-3334d3154803",
   "metadata": {
    "jupyter": {
     "source_hidden": true
    },
    "tags": []
   },
   "outputs": [],
   "source": [
    "cd."
   ]
  },
  {
   "cell_type": "code",
   "execution_count": null,
   "id": "92040480-7eb8-4e47-8ac3-2c0d05c9b959",
   "metadata": {},
   "outputs": [],
   "source": []
  }
 ],
 "metadata": {
  "kernelspec": {
   "display_name": "Python 3 (ipykernel)",
   "language": "python",
   "name": "python3"
  },
  "language_info": {
   "codemirror_mode": {
    "name": "ipython",
    "version": 3
   },
   "file_extension": ".py",
   "mimetype": "text/x-python",
   "name": "python",
   "nbconvert_exporter": "python",
   "pygments_lexer": "ipython3",
   "version": "3.9.12"
  }
 },
 "nbformat": 4,
 "nbformat_minor": 5
}
